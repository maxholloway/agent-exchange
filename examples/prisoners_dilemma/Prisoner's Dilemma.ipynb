{
 "cells": [
  {
   "cell_type": "code",
   "execution_count": 2,
   "metadata": {},
   "outputs": [
    {
     "name": "stdout",
     "output_type": "stream",
     "text": [
      "\u001b[33mWARNING: You are using pip version 19.2.3, however version 20.2.4 is available.\r\n",
      "You should consider upgrading via the 'pip install --upgrade pip' command.\u001b[0m\r\n"
     ]
    }
   ],
   "source": [
    "!pip3 install -q agent-exchange"
   ]
  },
  {
   "cell_type": "code",
   "execution_count": 1,
   "metadata": {},
   "outputs": [],
   "source": [
    "from exchange import PrisonersDilemmaExchange\n",
    "from agent import PrisonersDilemmaBaseAgent, Actions\n",
    "from utils import BufferList"
   ]
  },
  {
   "cell_type": "code",
   "execution_count": 2,
   "metadata": {},
   "outputs": [],
   "source": [
    "class Altruist(PrisonersDilemmaBaseAgent):\n",
    "    def __init__(self):\n",
    "        super().__init__()\n",
    "        \n",
    "    def get_action(self, exchange_state):\n",
    "        action = Actions.NO_DEFECT\n",
    "        self.historical_actions.append(action)\n",
    "        return action"
   ]
  },
  {
   "cell_type": "code",
   "execution_count": 3,
   "metadata": {},
   "outputs": [],
   "source": [
    "class Antagonist(PrisonersDilemmaBaseAgent):\n",
    "    def get_action(self, exchange_state):\n",
    "        action = Actions.DEFECT\n",
    "        self.historical_actions.append(action)\n",
    "        return action"
   ]
  },
  {
   "cell_type": "code",
   "execution_count": 4,
   "metadata": {},
   "outputs": [],
   "source": [
    "class TitForTat(PrisonersDilemmaBaseAgent):\n",
    "    def __init__(self) -> None:\n",
    "        super().__init__()\n",
    "        self.adversary_historical_actions = BufferList(1) # only ever need to look back 1\n",
    "\n",
    "    def get_action(self, exchange_state):\n",
    "        if len(self.adversary_historical_actions) == 0:\n",
    "            action = Actions.NO_DEFECT\n",
    "        else:\n",
    "            if Actions.DEFECT in self.adversary_historical_actions.peek(0):\n",
    "                action = Actions.DEFECT\n",
    "            else:\n",
    "                action = Actions.NO_DEFECT\n",
    "        self.historical_actions.append(action)\n",
    "        return action    \n",
    "    \n",
    "    def action_results_update(self, new_exchange_state, reward, done, info):\n",
    "        self.adversary_historical_actions.append(info)"
   ]
  },
  {
   "cell_type": "markdown",
   "metadata": {},
   "source": [
    "## Run Simple Test"
   ]
  },
  {
   "cell_type": "code",
   "execution_count": 5,
   "metadata": {},
   "outputs": [],
   "source": [
    "def simple_reward_fn(twoPlayersActions):\n",
    "    \"\"\"Make a simple prisoners dilemma\n",
    "    where the payoff matrix is as follows\n",
    "\n",
    "    1 \\ 2\n",
    "            defect      no defect\n",
    "    defect    (-7, -7)    (0, -10)\n",
    "    no defect (-10, 0)    (-3, -3)\n",
    "\n",
    "    \"\"\"\n",
    "    actionA, actionB = twoPlayersActions\n",
    "    if actionA == actionB:\n",
    "        if actionA == Actions.DEFECT:\n",
    "            return (-7, -7)\n",
    "        else:\n",
    "            return (-3, -3)\n",
    "    elif actionA == Actions.DEFECT:\n",
    "        return (0, -10)\n",
    "    else:\n",
    "        return (-10, 0)"
   ]
  },
  {
   "cell_type": "code",
   "execution_count": 6,
   "metadata": {},
   "outputs": [],
   "source": [
    "def simulate(players, steps):\n",
    "    exchange = PrisonersDilemmaExchange(\n",
    "        players, simple_reward_fn\n",
    "    )\n",
    "\n",
    "    exchange.simulate_steps(steps)"
   ]
  },
  {
   "cell_type": "code",
   "execution_count": 7,
   "metadata": {},
   "outputs": [
    {
     "name": "stdout",
     "output_type": "stream",
     "text": [
      "The rewards were (-3, -3) in round 0.\n",
      "The rewards were (-3, -3) in round 1.\n",
      "The rewards were (-3, -3) in round 2.\n",
      "The rewards were (-3, -3) in round 3.\n",
      "The rewards were (-3, -3) in round 4.\n",
      "The rewards were (-3, -3) in round 5.\n",
      "The rewards were (-3, -3) in round 6.\n",
      "The rewards were (-3, -3) in round 7.\n",
      "The rewards were (-3, -3) in round 8.\n",
      "The rewards were (-3, -3) in round 9.\n"
     ]
    }
   ],
   "source": [
    "couple_of_altruists = [Altruist() for _ in range(2)]\n",
    "simulate(couple_of_altruists, 10)"
   ]
  },
  {
   "cell_type": "code",
   "execution_count": 8,
   "metadata": {},
   "outputs": [
    {
     "name": "stdout",
     "output_type": "stream",
     "text": [
      "The rewards were (-7, -7) in round 0.\n",
      "The rewards were (-7, -7) in round 1.\n",
      "The rewards were (-7, -7) in round 2.\n",
      "The rewards were (-7, -7) in round 3.\n",
      "The rewards were (-7, -7) in round 4.\n",
      "The rewards were (-7, -7) in round 5.\n",
      "The rewards were (-7, -7) in round 6.\n",
      "The rewards were (-7, -7) in round 7.\n",
      "The rewards were (-7, -7) in round 8.\n",
      "The rewards were (-7, -7) in round 9.\n"
     ]
    }
   ],
   "source": [
    "couple_of_antagonists = [Antagonist() for _ in range(2)]\n",
    "simulate(couple_of_antagonists, 10)"
   ]
  },
  {
   "cell_type": "code",
   "execution_count": 9,
   "metadata": {},
   "outputs": [
    {
     "name": "stdout",
     "output_type": "stream",
     "text": [
      "The rewards were (-3, -3) in round 0.\n",
      "The rewards were (-3, -3) in round 1.\n",
      "The rewards were (-3, -3) in round 2.\n",
      "The rewards were (-3, -3) in round 3.\n",
      "The rewards were (-3, -3) in round 4.\n",
      "The rewards were (-3, -3) in round 5.\n",
      "The rewards were (-3, -3) in round 6.\n",
      "The rewards were (-3, -3) in round 7.\n",
      "The rewards were (-3, -3) in round 8.\n",
      "The rewards were (-3, -3) in round 9.\n"
     ]
    }
   ],
   "source": [
    "altruist_and_titfortat = [Altruist(), TitForTat()]\n",
    "simulate(altruist_and_titfortat, 10)"
   ]
  },
  {
   "cell_type": "code",
   "execution_count": 10,
   "metadata": {},
   "outputs": [
    {
     "name": "stdout",
     "output_type": "stream",
     "text": [
      "The rewards were (0, -10) in round 0.\n",
      "The rewards were (-7, -7) in round 1.\n",
      "The rewards were (-7, -7) in round 2.\n",
      "The rewards were (-7, -7) in round 3.\n",
      "The rewards were (-7, -7) in round 4.\n",
      "The rewards were (-7, -7) in round 5.\n",
      "The rewards were (-7, -7) in round 6.\n",
      "The rewards were (-7, -7) in round 7.\n",
      "The rewards were (-7, -7) in round 8.\n",
      "The rewards were (-7, -7) in round 9.\n"
     ]
    }
   ],
   "source": [
    "antagonist_and_titfortat = [Antagonist(), TitForTat()]\n",
    "simulate(antagonist_and_titfortat, 10)"
   ]
  },
  {
   "cell_type": "code",
   "execution_count": 12,
   "metadata": {},
   "outputs": [
    {
     "name": "stdout",
     "output_type": "stream",
     "text": [
      "The rewards were (-3, -3) in round 0.\n",
      "The rewards were (-3, -3) in round 1.\n",
      "The rewards were (-3, -3) in round 2.\n",
      "The rewards were (-3, -3) in round 3.\n",
      "The rewards were (-3, -3) in round 4.\n",
      "The rewards were (-3, -3) in round 5.\n",
      "The rewards were (-3, -3) in round 6.\n",
      "The rewards were (-3, -3) in round 7.\n",
      "The rewards were (-3, -3) in round 8.\n",
      "The rewards were (-3, -3) in round 9.\n"
     ]
    }
   ],
   "source": [
    "titfortat_and_titfortat = [TitForTat(), TitForTat()]\n",
    "simulate(titfortat_and_titfortat, 10)"
   ]
  },
  {
   "cell_type": "code",
   "execution_count": null,
   "metadata": {},
   "outputs": [],
   "source": []
  }
 ],
 "metadata": {
  "kernelspec": {
   "display_name": "Python 3",
   "language": "python",
   "name": "python3"
  },
  "language_info": {
   "codemirror_mode": {
    "name": "ipython",
    "version": 3
   },
   "file_extension": ".py",
   "mimetype": "text/x-python",
   "name": "python",
   "nbconvert_exporter": "python",
   "pygments_lexer": "ipython3",
   "version": "3.8.2"
  }
 },
 "nbformat": 4,
 "nbformat_minor": 4
}
