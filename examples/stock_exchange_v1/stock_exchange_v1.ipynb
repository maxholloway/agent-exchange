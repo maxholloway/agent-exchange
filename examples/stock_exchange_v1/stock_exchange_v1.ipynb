{
 "cells": [
  {
   "cell_type": "markdown",
   "metadata": {},
   "source": [
    "# Stock Exchange Example"
   ]
  },
  {
   "cell_type": "markdown",
   "metadata": {},
   "source": [
    "## Install Requirements"
   ]
  },
  {
   "cell_type": "code",
   "execution_count": 1,
   "metadata": {},
   "outputs": [],
   "source": [
    "!pip install --quiet agent-exchange==0.0.3 pandas numpy"
   ]
  },
  {
   "cell_type": "code",
   "execution_count": 2,
   "metadata": {},
   "outputs": [],
   "source": [
    "from random import shuffle, random, randint\n",
    "from typing import Sequence, Tuple, Dict, Union\n",
    "\n",
    "import numpy as np\n",
    "import pandas as pd\n",
    "from agent_exchange.agent import Agent\n",
    "from agent_exchange.exchange import Exchange\n",
    "\n",
    "from stock_exchange_v1 import *"
   ]
  },
  {
   "cell_type": "markdown",
   "metadata": {},
   "source": [
    "## Make Stock Exchange Agents"
   ]
  },
  {
   "cell_type": "code",
   "execution_count": 10,
   "metadata": {},
   "outputs": [],
   "source": [
    "class StockAgentV1InternalState:\n",
    "    def __init__(self, initial_num_shares: int, initial_capital: float):\n",
    "        self.num_shares = [initial_num_shares]\n",
    "        self.capital = [initial_capital]\n",
    "        \n",
    "        # Mappings from price to number of shares\n",
    "        self.open_bids = {}\n",
    "        self.open_asks = {}\n",
    "\n",
    "    def on_timestep_passed(self, fill_ticket: Union[type(None), StockExchangeV1FillTicket]):\n",
    "        if fill_ticket != None:\n",
    "            new_num_shares, new_capital = self.update_with_fill_ticket(fill_ticket)\n",
    "        else:\n",
    "            new_num_shares, new_capital = self.get_num_shares(), self.get_capital()\n",
    "            \n",
    "        self.num_shares.append(new_num_shares)\n",
    "        self.capital.append(new_capital)\n",
    "        \n",
    "        \n",
    "        \n",
    "    def update_with_fill_ticket(self, ticket: StockExchangeV1FillTicket):\n",
    "        \"\"\"Use the fill ticket to update our state variables.\n",
    "        \"\"\"\n",
    "        \n",
    "        # The state updates for after the update -- this should be modified in this function when capital or num_shares changes\n",
    "        new_num_shares = self.get_num_shares()\n",
    "        new_capital = self.get_capital()\n",
    "\n",
    "        # Add new bids\n",
    "        for price in ticket.open_bids:\n",
    "            StockAgentV1InternalState.increment_or_create(self.open_bids, price, ticket.open_bids[price])\n",
    "\n",
    "        # Add new asks\n",
    "        for price in ticket.open_asks:\n",
    "            StockAgentV1InternalState.increment_or_create(self.open_asks, price, ticket.open_asks[price])\n",
    "\n",
    "        # Remove old bids that were filled in the past time step\n",
    "        for price in ticket.closed_bids:\n",
    "            shares_bought = ticket.closed_bids[price]\n",
    "            new_num_shares += shares_bought\n",
    "            new_capital -= price * shares_bought\n",
    "            StockAgentV1InternalState.decrement_and_try_delete(self.open_bids, price, shares_bought)\n",
    "            \n",
    "\n",
    "        # Remove old asks that were filled in the past time step\n",
    "        for price in ticket.closed_asks:\n",
    "            shares_sold = ticket.closed_asks[price]\n",
    "            new_num_shares -= shares_sold\n",
    "            new_capital += price * shares_sold\n",
    "            StockAgentV1InternalState.decrement_and_try_delete(self.open_asks, price, shares_sold)\n",
    "            \n",
    "        return new_num_shares, new_capital\n",
    "\n",
    "    def get_num_shares(self):\n",
    "        return self.num_shares[-1]\n",
    "    \n",
    "    def get_capital(self):\n",
    "        return self.capital[-1]\n",
    "\n",
    "    def __repr__(self):\n",
    "        return dict_repr(self)\n",
    "\n",
    "    def __str__(self):\n",
    "        return dict_str(self)\n",
    "\n",
    "    def increment_or_create(D, key, value):\n",
    "        \"\"\"If the key-value pair does not exist yet,\n",
    "        then add a new key-value pair with `value`\n",
    "        as the value. Otherwise, increment the\n",
    "        key's value with `value`.\n",
    "        \"\"\"\n",
    "        key = round(key, 2)\n",
    "        if key not in D:\n",
    "            D[key] = 0\n",
    "        D[key] += value\n",
    "        if D[key] == 0:\n",
    "            del D[key]\n",
    "\n",
    "    def decrement_and_try_delete(D, key, value):\n",
    "        \"\"\"Decrement a value in a dictionary,\n",
    "        and if the new value is 0, then delete\n",
    "        the k-v pair from the dictionary.\n",
    "        \"\"\"\n",
    "        key = round(key, 2)\n",
    "        if key not in D:\n",
    "            D[key] = 0\n",
    "        D[key] -= value\n",
    "\n",
    "        if D[key] == 0:\n",
    "            del D[key]\n",
    "\n",
    "class StockAgentV1(Agent):\n",
    "    \"\"\"A base stock trading agent; this agent itself will perform no-ops each iteration.\n",
    "    \"\"\"\n",
    "    def __init__(self, initial_num_shares, initial_capital):\n",
    "        super().__init__()\n",
    "        self.internal_state = StockAgentV1InternalState(initial_num_shares, initial_capital)\n",
    "\n",
    "    def action_results_update(\n",
    "        self, \n",
    "        new_order_book: StockExchangeV1OrderBook, \n",
    "        reward, \n",
    "        done: bool, \n",
    "        fill_ticket: Union[type(None), StockExchangeV1FillTicket]):\n",
    "        \n",
    "        self.internal_state.on_timestep_passed(fill_ticket)\n",
    "        \n",
    "    def __repr__(self):\n",
    "        return dict_repr(self)\n",
    "\n",
    "    def __str__(self):\n",
    "        return dict_str(self)\n",
    "\n",
    "    \n",
    "class StockAgentV1NaiveMaker(StockAgentV1):\n",
    "    \"\"\"Naive agent that acts as a market maker.\n",
    "    If there is a spread, this agent will place\n",
    "    an order on the buy side 1/2 of the time, on\n",
    "    the sell side 1/2 of the time.\n",
    "\n",
    "    Note: in V1, there is no way to place multiple\n",
    "    orders within the same time step.\n",
    "    \"\"\"\n",
    "    def __init__(self, initial_num_shares=1000, initial_capital=100000):\n",
    "        super().__init__(initial_num_shares, initial_capital)\n",
    "\n",
    "    def get_action(self, order_book: StockExchangeV1OrderBook):\n",
    "        if random() < .5: # buy just over current bid\n",
    "            buy_price = order_book.get_bid() + 0.01 # penny-up on the market-clearing buy price\n",
    "            \n",
    "            # Randomly buy as little as 0 or as much as we can\n",
    "            buy_amount = randint(0, 1000) # limit buy\n",
    "\n",
    "            order = StockExchangeV1Action(StockExchangeV1OrderTypes.LIMIT, buy_amount, buy_price)\n",
    "\n",
    "            return order\n",
    "        else: # sell just under current ask\n",
    "            sell_price = order_book.get_ask() - 0.01\n",
    "\n",
    "            # Randomly sell as little as 0 and as much as 10\n",
    "            sell_amount = randint(0, 1000)\n",
    "\n",
    "            order = StockExchangeV1Action(StockExchangeV1OrderTypes.LIMIT, -sell_amount, sell_price)\n",
    "\n",
    "            return order\n",
    "\n",
    "\n",
    "class StockAgentV1NaiveTaker(StockAgentV1):\n",
    "    \"\"\"Naive agent that acts as a liquidity\n",
    "    taker. This agent speculates by placing\n",
    "    market orders of buy 1/2 of the time and\n",
    "    sell 1/2 of the time. Here we ignore\n",
    "    constraints on short selling, allowing\n",
    "    agents to shorts sell without limit.\n",
    "\n",
    "    Also, if the taker's order exhausts the\n",
    "    order book, then only the portion of their\n",
    "    order in the order book gets filled.\n",
    "    \"\"\"\n",
    "    def __init__(self, initial_num_shares=1000, initial_capital=100000):\n",
    "        super().__init__(initial_num_shares, initial_capital)\n",
    "\n",
    "    def get_action(self, order_book: StockExchangeV1OrderBook):\n",
    "        if random() < .5: # buy\n",
    "            expected_buy_price = order_book.get_ask()\n",
    "            \n",
    "            # Randomly decide on how much to buy\n",
    "            max_buy_amount = self.internal_state.get_capital() // expected_buy_price\n",
    "            num_shares_to_buy = randint(0, max_buy_amount)\n",
    "\n",
    "            return StockExchangeV1Action(StockExchangeV1OrderTypes.MARKET, num_shares_to_buy)\n",
    "\n",
    "        else:\n",
    "            expected_sell_price = order_book.get_bid()\n",
    "\n",
    "            # Randomly decide on how much to sell\n",
    "            max_sell_amount = self.internal_state.get_num_shares()\n",
    "            num_shares_to_sell = randint(0, max_sell_amount)\n",
    "\n",
    "            return StockExchangeV1Action(StockExchangeV1OrderTypes.MARKET, -num_shares_to_sell)"
   ]
  },
  {
   "cell_type": "markdown",
   "metadata": {},
   "source": [
    "## Run simulations"
   ]
  },
  {
   "cell_type": "code",
   "execution_count": 11,
   "metadata": {},
   "outputs": [],
   "source": [
    "# Run a simple \n",
    "NMAKER, NTAKER, NSTEPS = 10, 1, 10\n",
    "agents = [StockAgentV1NaiveMaker() for _ in range(NMAKER)]\n",
    "agents += [StockAgentV1NaiveTaker() for _ in range(NTAKER)]\n",
    "exchange = StockExchangeV1(agents)\n",
    "\n",
    "exchange.simulate_steps(NSTEPS)\n",
    "# print(exchange.order_book)"
   ]
  },
  {
   "cell_type": "code",
   "execution_count": 12,
   "metadata": {},
   "outputs": [
    {
     "data": {
      "text/plain": [
       "[{'internal_state': {'num_shares': [1000, 1000, 1000, 301, 301, 301, 880, 1815, 1996, 2280, 2220], 'capital': [100000, 100000.0, 100000.0, 169920.96999999997, 169920.96999999997, 169920.96999999997, 112017.59999999998, 18524.529999999948, 424.5299999999188, -27975.470000000074, -21976.67000000007], 'open_bids': {100.01: -337, 100.0: -836}, 'open_asks': {100.04: 634, 100.03: 84, 99.98: -311}}},\n",
       " {'internal_state': {'num_shares': [1000, 1000, 1383, 1383, 1383, 1383, 1923, 2982, 2982, 3204, 2705], 'capital': [100000, 100000.0, 61715.32, 61715.32, 61715.32, 61715.32, 7715.3199999999815, -98183.18000000002, -98183.18000000002, -120379.08000000002, -70489.06], 'open_bids': {99.96: 164, 100.0: -689, 99.99: -410}, 'open_asks': {100.03: 220, 100.02: 993, 99.98: -499}}},\n",
       " {'internal_state': {'num_shares': [1000, 1000, 1000, 1000, 1000, 1744, 1640, 2270, 1910, 1420, 1717], 'capital': [100000, 100000.0, 100000.0, 100000.0, 100000.0, 25606.319999999985, 36006.31999999994, -26993.680000000073, 9006.319999999934, 58001.419999999925, 28304.839999999935], 'open_bids': {99.96: 929, 99.97: 636, 100.0: -59, 99.99: -540}, 'open_asks': {100.0: -337, 99.99: -80}}},\n",
       " {'internal_state': {'num_shares': [1000, 1000, 1000, 1000, 1000, 426, 778, 929, 1533, 1476, 761], 'capital': [100000, 100000.0, 100000.0, 100000.0, 100000.0, 157400.0, 122200.0, 107100.0, 46699.999999999985, 52399.999999999985, 123887.29999999999], 'open_bids': {100.0: -352}, 'open_asks': {100.04: 880, 100.03: 553, 100.02: 516, 100.01: 875, 100.0: 694, 99.98: -555}}},\n",
       " {'internal_state': {'num_shares': [1000, 1000, 1383, 1383, 1071, 1953, 1315, 1043, 745, 706, 60], 'capital': [100000, 100000.0, 61711.49, 61711.49, 92917.73, 4717.730000000025, 68521.10000000003, 95720.58000000003, 125520.58000000002, 129420.58000000002, 194014.12], 'open_bids': {100.0: -882}, 'open_asks': {100.04: 77, 100.02: 583, 100.01: 292, 100.0: -521, 99.99: -52, 99.98: 458}}},\n",
       " {'internal_state': {'num_shares': [1000, 1000, 1000, 1000, 1000, 1418, 1084, 517, -347, -887, -1221], 'capital': [100000, 100000.0, 100000.0, 100000.0, 100000.0, 58206.129999999976, 91606.12999999998, 148306.12999999998, 234706.13, 288700.73, 322096.75999999995], 'open_bids': {}, 'open_asks': {100.04: 116, 100.03: 278, 100.02: 586, 100.0: -1440, 99.98: 247, 99.99: -271}}},\n",
       " {'internal_state': {'num_shares': [1000, 1000, 1000, 1000, 1000, 1361, 1227, 1149, 1411, 2402, 2473], 'capital': [100000, 100000.0, 100000.0, 100000.0, 100000.0, 63900.00000000001, 77300.0, 85102.93999999997, 58900.31999999998, -40189.76999999999, -47288.81999999999], 'open_bids': {99.96: 376, 99.97: 81, 100.0: -361, 100.01: -262, 99.99: -1038}, 'open_asks': {100.0: -8}}},\n",
       " {'internal_state': {'num_shares': [1000, 1000, 1000, 1000, 1000, 947, 1388, 615, 353, -404, 881], 'capital': [100000, 100000.0, 100000.0, 100000.0, 100000.0, 105300.0, 61200.000000000015, 138500.00000000006, 164702.62000000005, 240395.05000000005, 111915.81000000006], 'open_bids': {99.97: 42, 100.0: -441, 100.01: -147, 99.99: -408}, 'open_asks': {100.04: 173, 100.01: 240, 100.0: -826}}},\n",
       " {'internal_state': {'num_shares': [1000, 1000, 1000, 1000, 1000, 674, -217, -715, -394, -314, -913], 'capital': [100000, 100000.0, 100000.0, 100000.0, 100000.0, 132600.0, 221700.00000000003, 271495.0200000001, 239395.02000000008, 231395.82000000007, 291285.88000000006], 'open_bids': {99.97: 723, 100.0: -321}, 'open_asks': {100.04: 829, 100.02: 778, 100.0: -891, 99.99: -627, 99.98: -599}}},\n",
       " {'internal_state': {'num_shares': [1000, 301, 301, 301, 301, 547, 859, 337, 777, 777, 2079], 'capital': [100000, 169927.96, 169927.96, 169927.96, 169927.96, 145332.49, 114132.48999999999, 166327.27000000002, 122327.27000000003, 122327.27000000003, -7850.549999999975], 'open_bids': {100.0: -752, 99.99: -411}, 'open_asks': {100.04: 121, 100.03: 692, 99.99: -694}}},\n",
       " {'internal_state': {'num_shares': [1000, 1699, 933, 1632, 1944, 246, 123, 58, 34, 340, 238], 'capital': [100000, 30072.040000000008, 106645.23000000001, 36724.260000000024, 5518.0200000000295, 175301.04000000007, 187601.04000000007, 194100.39000000007, 196500.39000000007, 165903.45000000007, 176100.39000000007], 'open_bids': {100.04: -699, 100.03: -699, 100.02: -312, 99.99: -306}, 'open_asks': {99.97: -485, 99.96: -383, 99.99: -1763, 100.0: -147}}}]"
      ]
     },
     "execution_count": 12,
     "metadata": {},
     "output_type": "execute_result"
    }
   ],
   "source": [
    "agents"
   ]
  },
  {
   "cell_type": "code",
   "execution_count": 6,
   "metadata": {},
   "outputs": [
    {
     "data": {
      "text/plain": [
       "1000"
      ]
     },
     "execution_count": 6,
     "metadata": {},
     "output_type": "execute_result"
    }
   ],
   "source": [
    "agents[-1].internal_state.get_num_shares()"
   ]
  },
  {
   "cell_type": "code",
   "execution_count": 8,
   "metadata": {},
   "outputs": [
    {
     "name": "stdout",
     "output_type": "stream",
     "text": [
      "Help on method get_info in module stock_exchange_v1:\n",
      "\n",
      "get_info(agent_index) method of stock_exchange_v1.StockExchangeV1 instance\n",
      "    Relay information about how many shares \n",
      "    of the user's previous orders filled.\n",
      "\n"
     ]
    }
   ],
   "source": [
    "help(exchange.get_info)"
   ]
  }
 ],
 "metadata": {
  "kernelspec": {
   "display_name": "Python 3",
   "language": "python",
   "name": "python3"
  },
  "language_info": {
   "codemirror_mode": {
    "name": "ipython",
    "version": 3
   },
   "file_extension": ".py",
   "mimetype": "text/x-python",
   "name": "python",
   "nbconvert_exporter": "python",
   "pygments_lexer": "ipython3",
   "version": "3.8.2"
  }
 },
 "nbformat": 4,
 "nbformat_minor": 4
}
