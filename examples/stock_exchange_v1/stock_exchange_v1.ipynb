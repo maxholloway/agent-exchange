{
 "cells": [
  {
   "cell_type": "markdown",
   "metadata": {},
   "source": [
    "# Stock Exchange Example"
   ]
  },
  {
   "cell_type": "markdown",
   "metadata": {},
   "source": [
    "## Install Requirements"
   ]
  },
  {
   "cell_type": "code",
   "execution_count": 4,
   "metadata": {},
   "outputs": [],
   "source": [
    "!pip install --quiet agent-exchange==0.0.4 pandas numpy"
   ]
  },
  {
   "cell_type": "code",
   "execution_count": 1,
   "metadata": {},
   "outputs": [],
   "source": [
    "from random import shuffle, random, randint\n",
    "from typing import Sequence, Tuple, Dict, Union\n",
    "\n",
    "import numpy as np\n",
    "import pandas as pd\n",
    "from agent_exchange.agent import Agent\n",
    "from agent_exchange.exchange import Exchange\n",
    "\n",
    "from stock_exchange_v1 import * # requires stock_exchange_v1.py file to be local\n",
    "from stock_agent_v1 import *    # requires stock_agent_v1.py file to be local"
   ]
  },
  {
   "cell_type": "markdown",
   "metadata": {},
   "source": [
    "## Make Stock Exchange Agents"
   ]
  },
  {
   "cell_type": "code",
   "execution_count": 2,
   "metadata": {},
   "outputs": [],
   "source": [
    "class StockAgentV1NaiveMaker(StockAgentV1):\n",
    "    \"\"\"Naive agent that acts as a market maker.\n",
    "    If there is a spread, this agent will place\n",
    "    an order on the buy side 1/2 of the time, on\n",
    "    the sell side 1/2 of the time.\n",
    "\n",
    "    Note: in V1, there is no way to place multiple\n",
    "    orders within the same time step.\n",
    "    \"\"\"\n",
    "    def __init__(self, initial_num_shares=1000, initial_capital=100000):\n",
    "        super().__init__(initial_num_shares, initial_capital)\n",
    "\n",
    "    def get_action(self, order_book: StockExchangeV1OrderBook):\n",
    "        if random() < .5: # buy just over current bid\n",
    "            buy_price = order_book.get_bid() + 0.01 # penny-up on the market-clearing buy price\n",
    "            \n",
    "            # Randomly buy as little as 0 or as much as we can\n",
    "            buy_amount = randint(0, 1000) # limit buy\n",
    "\n",
    "            order = StockExchangeV1Action(StockExchangeV1OrderTypes.LIMIT, buy_amount, buy_price)\n",
    "\n",
    "            return order\n",
    "        else: # sell just under current ask\n",
    "            sell_price = order_book.get_ask() - 0.01\n",
    "\n",
    "            # Randomly sell as little as 0 and as much as 10\n",
    "            sell_amount = randint(0, 1000)\n",
    "\n",
    "            order = StockExchangeV1Action(StockExchangeV1OrderTypes.LIMIT, -sell_amount, sell_price)\n",
    "\n",
    "            return order\n",
    "\n",
    "\n",
    "class StockAgentV1NaiveTaker(StockAgentV1):\n",
    "    \"\"\"Naive agent that acts as a liquidity\n",
    "    taker. This agent speculates by placing\n",
    "    market orders of buy 1/2 of the time and\n",
    "    sell 1/2 of the time. Here we ignore\n",
    "    constraints on short selling, allowing\n",
    "    agents to shorts sell without limit.\n",
    "\n",
    "    Also, if the taker's order exhausts the\n",
    "    order book, then only the portion of their\n",
    "    order in the order book gets filled.\n",
    "    \"\"\"\n",
    "    def __init__(self, initial_num_shares=1000, initial_capital=100000):\n",
    "        super().__init__(initial_num_shares, initial_capital)\n",
    "\n",
    "    def get_action(self, order_book: StockExchangeV1OrderBook):\n",
    "        if random() < .5: # buy\n",
    "            expected_buy_price = order_book.get_ask()\n",
    "            \n",
    "            # Randomly decide on how much to buy\n",
    "            max_buy_amount = self.internal_state.get_capital() // expected_buy_price\n",
    "            num_shares_to_buy = randint(0, max_buy_amount)\n",
    "\n",
    "            return StockExchangeV1Action(StockExchangeV1OrderTypes.MARKET, num_shares_to_buy)\n",
    "\n",
    "        else:\n",
    "            expected_sell_price = order_book.get_bid()\n",
    "\n",
    "            # Randomly decide on how much to sell\n",
    "            max_sell_amount = self.internal_state.get_num_shares()\n",
    "            num_shares_to_sell = randint(0, max_sell_amount)\n",
    "\n",
    "            return StockExchangeV1Action(StockExchangeV1OrderTypes.MARKET, -num_shares_to_sell)"
   ]
  },
  {
   "cell_type": "markdown",
   "metadata": {},
   "source": [
    "## Run simulations"
   ]
  },
  {
   "cell_type": "code",
   "execution_count": 3,
   "metadata": {},
   "outputs": [],
   "source": [
    "# Run a simple \n",
    "NMAKER, NTAKER, NSTEPS = 10, 1, 100\n",
    "agents = [StockAgentV1NaiveMaker() for _ in range(NMAKER)]\n",
    "agents += [StockAgentV1NaiveTaker() for _ in range(NTAKER)]\n",
    "exchange = StockExchangeV1(agents)\n",
    "\n",
    "exchange.simulate_steps(NSTEPS)\n",
    "# print(exchange.order_book)"
   ]
  },
  {
   "cell_type": "code",
   "execution_count": 4,
   "metadata": {},
   "outputs": [
    {
     "data": {
      "text/plain": [
       "{'internal_state': {'num_shares': [1000, 1590, 1786, 1846, 1199, 1881, 1966, 1971, 1856, 1916, 1921, 1967, 1995, 1188, 337, 1616, 1511, 1996, 1440, 187, 605, 1352, 1944, 1195, 1270, 1426, 1588, 1806, 1924, 135, 1804, 1910, 1928, 1928, 1955, 1957, 140, 197, 5, 1189, 386, 1240, 652, 98, 117, 10, 1, 1, 1, 1, 0, 0, 520, 1807, 913, 322, 1384, 1687, 1882, 1902, 1975, 1329, 1909, 1498, 1502, 696, 1838, 1544, 1117, 1582, 1245, 352, 1978, 1984, 1987, 1375, 1704, 1499, 992, 1987, 1987, 1989, 1994, 1994, 1730, 1749, 1749, 1873, 1952, 1952, 1952, 1952, 1952, 1972, 1977, 1984, 1990, 1990, 1990, 1996, 1996], 'capital': [100000, 40976.4, 21370.52, 15369.32, 80062.85, 11862.850000000006, 3362.850000000006, 2862.900000000006, 14361.750000000007, 8361.750000000007, 7861.8000000000075, 3262.2600000000075, 462.8200000000079, 81130.54000000001, 166196.5, 38284.610000000015, 48782.51000000002, 282.5100000000166, 55875.07000000002, 181162.54000000004, 139362.54000000004, 64669.880000000034, 5481.7200000000375, 80359.25000000003, 72861.50000000003, 57269.30000000003, 41072.54000000004, 19276.900000000038, 7478.080000000038, 186360.56000000006, 19427.18000000005, 8828.240000000053, 7028.420000000053, 7028.420000000053, 4327.700000000053, 4127.660000000053, 185837.84000000005, 180137.84000000005, 199334.00000000006, 80957.68000000007, 161241.62000000005, 75833.08000000006, 134627.20000000007, 190021.6600000001, 188121.6600000001, 198819.52000000008, 199719.43000000008, 199719.43000000008, 199719.43000000008, 199719.43000000008, 199819.4100000001, 199819.4100000001, 147829.8100000001, 19114.750000000124, 108513.28000000012, 167604.70000000013, 61398.71000000013, 31095.68000000013, 11595.680000000131, 9595.280000000132, 2294.550000000132, 66901.01000000014, 8889.410000000142, 49985.30000000015, 49585.26000000015, 130161.86000000015, 15973.280000000159, 45367.40000000016, 88063.13000000016, 41567.780000000166, 75260.57000000017, 164534.68000000017, 1909.4500000001717, 1309.5100000001717, 1009.5400000001716, 62185.06000000017, 29291.640000000174, 49783.44000000018, 100463.16000000018, 988.030000000188, 988.030000000188, 788.090000000188, 288.24000000018793, 288.24000000018793, 26677.68000000019, 24778.25000000019, 24778.25000000019, 12385.69000000019, 4491.22000000019, 4491.22000000019, 4491.22000000019, 4491.22000000019, 4491.22000000019, 2493.6200000001904, 1994.2700000001905, 1295.1800000001906, 695.9600000001907, 695.9600000001907, 695.9600000001907, 96.86000000019078, 96.86000000019078], 'open_bids': {100.04: -590, 100.03: -923, 100.02: -3097, 100.0: -3626, 99.99: -2648, 99.98: -3531, 100.01: -3410, 99.97: -598, 99.95: -156, 99.94: -124, 99.93: -79, 99.88: -20, 99.87: -18, 99.85: -6}, 'open_asks': {99.99: -5168, 99.96: -3746, 99.98: -2199, 99.97: -2357, 100.0: -2465, 100.01: -1895}}}"
      ]
     },
     "execution_count": 4,
     "metadata": {},
     "output_type": "execute_result"
    }
   ],
   "source": [
    "agents[-1]"
   ]
  },
  {
   "cell_type": "code",
   "execution_count": null,
   "metadata": {},
   "outputs": [],
   "source": []
  }
 ],
 "metadata": {
  "kernelspec": {
   "display_name": "Python 3",
   "language": "python",
   "name": "python3"
  },
  "language_info": {
   "codemirror_mode": {
    "name": "ipython",
    "version": 3
   },
   "file_extension": ".py",
   "mimetype": "text/x-python",
   "name": "python",
   "nbconvert_exporter": "python",
   "pygments_lexer": "ipython3",
   "version": "3.8.2"
  }
 },
 "nbformat": 4,
 "nbformat_minor": 4
}
