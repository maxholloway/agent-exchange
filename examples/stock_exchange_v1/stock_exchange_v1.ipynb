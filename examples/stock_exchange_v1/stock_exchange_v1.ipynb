{
 "cells": [
  {
   "cell_type": "markdown",
   "metadata": {},
   "source": [
    "# Stock Exchange Example"
   ]
  },
  {
   "cell_type": "markdown",
   "metadata": {},
   "source": [
    "## Install Requirements"
   ]
  },
  {
   "cell_type": "code",
   "execution_count": 1,
   "metadata": {},
   "outputs": [],
   "source": [
    "!pip install --quiet agent-exchange==0.0.2 pandas numpy"
   ]
  },
  {
   "cell_type": "code",
   "execution_count": 2,
   "metadata": {},
   "outputs": [],
   "source": [
    "from random import shuffle, random, randint\n",
    "from typing import Sequence, Tuple, Dict, Union\n",
    "\n",
    "import numpy as np\n",
    "import pandas as pd\n",
    "from agent_exchange.agent import Agent\n",
    "from agent_exchange.exchange import Exchange\n",
    "\n",
    "from stock_exchange_v1 import *"
   ]
  },
  {
   "cell_type": "markdown",
   "metadata": {},
   "source": [
    "## Make Stock Exchange Agents"
   ]
  },
  {
   "cell_type": "code",
   "execution_count": 26,
   "metadata": {},
   "outputs": [],
   "source": [
    "# Make stock exchange agents -- this draws on a number of \n",
    "class StockAgentV1InternalState:\n",
    "    def __init__(self, initial_num_shares: int, initial_capital: float):\n",
    "        self.num_shares = [initial_num_shares]\n",
    "        self.capital = [initial_capital]\n",
    "        \n",
    "        # Mappings from price to number of shares\n",
    "        self.open_bids = {}\n",
    "        self.open_asks = {}\n",
    "\n",
    "    def on_timestep_passed(self, fill_ticket: Union[type(None), StockExchangeV1FillTicket]):\n",
    "        if fill_ticket != None:\n",
    "            print('at 13')\n",
    "            new_num_shares, new_capital = self.internal_state.update_with_fill_ticket(fill_ticket)\n",
    "        else:\n",
    "#             print('at 16')\n",
    "            new_num_shares, new_capital = self.get_num_shares(), self.get_capital()\n",
    "            \n",
    "        self.num_shares.append(new_num_shares)\n",
    "        self.capital.append(new_capital)\n",
    "        \n",
    "        \n",
    "        \n",
    "    def update_with_fill_ticket(self, ticket: StockExchangeV1FillTicket):\n",
    "        \"\"\"Use the fill ticket to update our state variables.\n",
    "        \"\"\"\n",
    "        \n",
    "        # The state updates for after the update -- this should be modified in this function when capital or num_shares changes\n",
    "        new_num_shares = self.get_num_shares()\n",
    "        new_capital = self.get_capital()\n",
    "\n",
    "        # Add new bids\n",
    "        for price in ticket.open_bids:\n",
    "            StockAgentV1InternalState.increment_or_create(self.open_bids, price, ticket.open_bids[price])\n",
    "\n",
    "        # Add new asks\n",
    "        for price in ticket.open_asks:\n",
    "            StockAgentV1InternalState.increment_or_create(self.open_asks, price, ticket.open_asks[price])\n",
    "\n",
    "        # Remove old bids that were filled in the past time step\n",
    "        for price in ticket.closed_bids:\n",
    "            shares_bought = ticket.closed_bids[price]\n",
    "            new_num_shares += shares_bought\n",
    "            new_capital -= price * shares_bought\n",
    "            StockAgentV1InternalState.decrement_and_try_delete(self.open_bids, price, shares_bought)\n",
    "            \n",
    "\n",
    "        # Remove old asks that were filled in the past time step\n",
    "        for price in ticket.closed_asks:\n",
    "            shares_sold = ticket.closed_asks[price]\n",
    "            new_num_shares -= shares_sold\n",
    "            new_capital += price * shares_sold\n",
    "            StockAgentV1InternalState.decrement_and_try_delete(self.open_asks, price, shares_sold)\n",
    "            \n",
    "        return new_num_shares, new_capital\n",
    "\n",
    "    def get_num_shares(self):\n",
    "        return self.num_shares[-1]\n",
    "    \n",
    "    def get_capital(self):\n",
    "        return self.capital[-1]\n",
    "\n",
    "    def __repr__(self):\n",
    "        return dict_repr(self)\n",
    "\n",
    "    def __str__(self):\n",
    "        return dict_str(self)\n",
    "\n",
    "    def increment_or_create(D, key, value):\n",
    "        \"\"\"If the key-value pair does not exist yet,\n",
    "        then add a new key-value pair with `value`\n",
    "        as the value. Otherwise, increment the\n",
    "        key's value with `value`.\n",
    "        \"\"\"\n",
    "        if key not in D:\n",
    "            D[key] = 0\n",
    "        D[key] += value\n",
    "\n",
    "    def decrement_and_try_delete(D, key, value):\n",
    "        \"\"\"Decrement a value in a dictionary,\n",
    "        and if the new value is 0, then delete\n",
    "        the k-v pair from the dictionary.\n",
    "        \"\"\"\n",
    "        D[key] -= value\n",
    "        if D[key] == 0:\n",
    "            del D[key]\n",
    "\n",
    "class StockAgentV1(Agent):\n",
    "    \"\"\"A base stock trading agent; this agent itself will perform no-ops each iteration.\n",
    "    \"\"\"\n",
    "    def __init__(self, initial_num_shares, initial_capital):\n",
    "        super().__init__()\n",
    "        self.internal_state = StockAgentV1InternalState(initial_num_shares, initial_capital)\n",
    "\n",
    "    def action_results_update(\n",
    "        self, \n",
    "        new_order_book: StockExchangeV1OrderBook, \n",
    "        reward, \n",
    "        done: bool, \n",
    "        fill_ticket: Union[type(None), StockExchangeV1FillTicket]):\n",
    "        \n",
    "        self.internal_state.on_timestep_passed(fill_ticket)\n",
    "        \n",
    "    def __repr__(self):\n",
    "        return dict_repr(self)\n",
    "\n",
    "    def __str__(self):\n",
    "        return dict_str(self)\n",
    "\n",
    "    \n",
    "class StockAgentV1NaiveMaker(StockAgentV1):\n",
    "    \"\"\"Naive agent that acts as a market maker.\n",
    "    If there is a spread, this agent will place\n",
    "    an order on the buy side 1/2 of the time, on\n",
    "    the sell side 1/2 of the time.\n",
    "\n",
    "    Note: in V1, there is no way to place multiple\n",
    "    orders within the same time step.\n",
    "    \"\"\"\n",
    "    def __init__(self, initial_num_shares=1000, initial_capital=100000):\n",
    "        super().__init__(initial_num_shares, initial_capital)\n",
    "\n",
    "    def get_action(self, order_book: StockExchangeV1OrderBook):\n",
    "        if random() < .5: # buy just over current bid\n",
    "            buy_price = order_book.get_bid() + 0.01 # penny-up on the market-clearing buy price\n",
    "            \n",
    "            # Randomly buy as little as 0 or as much as we can\n",
    "            buy_amount = randint(0, 1000) # limit buy\n",
    "\n",
    "            order = StockExchangeV1Action(StockExchangeV1OrderTypes.LIMIT, buy_amount, buy_price)\n",
    "\n",
    "            return order\n",
    "        else: # sell just under current ask\n",
    "            sell_price = order_book.get_ask() - 0.01\n",
    "\n",
    "            # Randomly sell as little as 0 and as much as 10\n",
    "            sell_amount = randint(0, 1000)\n",
    "\n",
    "            order = StockExchangeV1Action(StockExchangeV1OrderTypes.LIMIT, -sell_amount, sell_price)\n",
    "\n",
    "            return order\n",
    "\n",
    "\n",
    "class StockAgentV1NaiveTaker(StockAgentV1):\n",
    "    \"\"\"Naive agent that acts as a liquidity\n",
    "    taker. This agent speculates by placing\n",
    "    market orders of buy 1/2 of the time and\n",
    "    sell 1/2 of the time. Here we ignore\n",
    "    constraints on short selling, allowing\n",
    "    agents to shorts sell without limit.\n",
    "\n",
    "    Also, if the taker's order exhausts the\n",
    "    order book, then only the portion of their\n",
    "    order in the order book gets filled.\n",
    "    \"\"\"\n",
    "    def __init__(self, initial_num_shares=1000, initial_capital=100000):\n",
    "        super().__init__(initial_num_shares, initial_capital)\n",
    "\n",
    "    def get_action(self, order_book: StockExchangeV1OrderBook):\n",
    "        if random() < .5: # buy\n",
    "            expected_buy_price = order_book.get_ask()\n",
    "            \n",
    "            # Randomly decide on how much to buy\n",
    "            max_buy_amount = self.internal_state.get_capital() // expected_buy_price\n",
    "            num_shares_to_buy = randint(0, max_buy_amount)\n",
    "\n",
    "            return StockExchangeV1Action(StockExchangeV1OrderTypes.MARKET, num_shares_to_buy)\n",
    "\n",
    "        else:\n",
    "            expected_sell_price = order_book.get_bid()\n",
    "\n",
    "            # Randomly decide on how much to sell\n",
    "            max_sell_amount = self.internal_state.get_num_shares()\n",
    "            num_shares_to_sell = randint(0, max_sell_amount)\n",
    "\n",
    "            return StockExchangeV1Action(StockExchangeV1OrderTypes.MARKET, -num_shares_to_sell)"
   ]
  },
  {
   "cell_type": "markdown",
   "metadata": {},
   "source": [
    "## Run simulations"
   ]
  },
  {
   "cell_type": "code",
   "execution_count": 28,
   "metadata": {},
   "outputs": [],
   "source": [
    "# Run a simple \n",
    "NMAKER, NTAKER, NSTEPS = 10, 1, 10\n",
    "agents = [StockAgentV1NaiveMaker() for _ in range(NMAKER)]\n",
    "agents += [StockAgentV1NaiveTaker() for _ in range(NTAKER)]\n",
    "exchange = StockExchangeV1(agents)\n",
    "\n",
    "exchange.simulate_steps(NSTEPS)\n",
    "# print(exchange.order_book)"
   ]
  },
  {
   "cell_type": "code",
   "execution_count": 29,
   "metadata": {},
   "outputs": [
    {
     "data": {
      "text/plain": [
       "[{'internal_state': {'num_shares': [1000, 1000, 1000, 1000, 1000, 1000, 1000, 1000, 1000, 1000, 1000], 'capital': [100000, 100000, 100000, 100000, 100000, 100000, 100000, 100000, 100000, 100000, 100000], 'open_bids': {}, 'open_asks': {}}},\n",
       " {'internal_state': {'num_shares': [1000, 1000, 1000, 1000, 1000, 1000, 1000, 1000, 1000, 1000, 1000], 'capital': [100000, 100000, 100000, 100000, 100000, 100000, 100000, 100000, 100000, 100000, 100000], 'open_bids': {}, 'open_asks': {}}},\n",
       " {'internal_state': {'num_shares': [1000, 1000, 1000, 1000, 1000, 1000, 1000, 1000, 1000, 1000, 1000], 'capital': [100000, 100000, 100000, 100000, 100000, 100000, 100000, 100000, 100000, 100000, 100000], 'open_bids': {}, 'open_asks': {}}},\n",
       " {'internal_state': {'num_shares': [1000, 1000, 1000, 1000, 1000, 1000, 1000, 1000, 1000, 1000, 1000], 'capital': [100000, 100000, 100000, 100000, 100000, 100000, 100000, 100000, 100000, 100000, 100000], 'open_bids': {}, 'open_asks': {}}},\n",
       " {'internal_state': {'num_shares': [1000, 1000, 1000, 1000, 1000, 1000, 1000, 1000, 1000, 1000, 1000], 'capital': [100000, 100000, 100000, 100000, 100000, 100000, 100000, 100000, 100000, 100000, 100000], 'open_bids': {}, 'open_asks': {}}},\n",
       " {'internal_state': {'num_shares': [1000, 1000, 1000, 1000, 1000, 1000, 1000, 1000, 1000, 1000, 1000], 'capital': [100000, 100000, 100000, 100000, 100000, 100000, 100000, 100000, 100000, 100000, 100000], 'open_bids': {}, 'open_asks': {}}},\n",
       " {'internal_state': {'num_shares': [1000, 1000, 1000, 1000, 1000, 1000, 1000, 1000, 1000, 1000, 1000], 'capital': [100000, 100000, 100000, 100000, 100000, 100000, 100000, 100000, 100000, 100000, 100000], 'open_bids': {}, 'open_asks': {}}},\n",
       " {'internal_state': {'num_shares': [1000, 1000, 1000, 1000, 1000, 1000, 1000, 1000, 1000, 1000, 1000], 'capital': [100000, 100000, 100000, 100000, 100000, 100000, 100000, 100000, 100000, 100000, 100000], 'open_bids': {}, 'open_asks': {}}},\n",
       " {'internal_state': {'num_shares': [1000, 1000, 1000, 1000, 1000, 1000, 1000, 1000, 1000, 1000, 1000], 'capital': [100000, 100000, 100000, 100000, 100000, 100000, 100000, 100000, 100000, 100000, 100000], 'open_bids': {}, 'open_asks': {}}},\n",
       " {'internal_state': {'num_shares': [1000, 1000, 1000, 1000, 1000, 1000, 1000, 1000, 1000, 1000, 1000], 'capital': [100000, 100000, 100000, 100000, 100000, 100000, 100000, 100000, 100000, 100000, 100000], 'open_bids': {}, 'open_asks': {}}},\n",
       " {'internal_state': {'num_shares': [1000, 1000, 1000, 1000, 1000, 1000, 1000, 1000, 1000, 1000, 1000], 'capital': [100000, 100000, 100000, 100000, 100000, 100000, 100000, 100000, 100000, 100000, 100000], 'open_bids': {}, 'open_asks': {}}}]"
      ]
     },
     "execution_count": 29,
     "metadata": {},
     "output_type": "execute_result"
    }
   ],
   "source": [
    "agents"
   ]
  },
  {
   "cell_type": "code",
   "execution_count": 25,
   "metadata": {},
   "outputs": [
    {
     "data": {
      "text/plain": [
       "1000"
      ]
     },
     "execution_count": 25,
     "metadata": {},
     "output_type": "execute_result"
    }
   ],
   "source": [
    "agents[-1].internal_state.get_num_shares()"
   ]
  },
  {
   "cell_type": "code",
   "execution_count": 43,
   "metadata": {},
   "outputs": [
    {
     "name": "stdout",
     "output_type": "stream",
     "text": [
      "Help on method __get_info in module stock_exchange_v1:\n",
      "\n",
      "__get_info(agent_index) method of stock_exchange_v1.StockExchangeV1 instance\n",
      "    Relay information about how many shares \n",
      "    of the user's previous orders filled.\n",
      "\n"
     ]
    }
   ],
   "source": [
    "help(exchange._StockExchangeV1__get_info)"
   ]
  },
  {
   "cell_type": "code",
   "execution_count": 34,
   "metadata": {},
   "outputs": [],
   "source": [
    "class A:\n",
    "    def __init__(self):\n",
    "        pass\n",
    "    def __hello(self):\n",
    "        print(\"A says hello!\")\n",
    "class B(A):\n",
    "    def __hello(self):\n",
    "        print(\"B says hello!\")\n",
    "\n",
    "    def hiya(self):\n",
    "        self.__hello()"
   ]
  },
  {
   "cell_type": "code",
   "execution_count": 36,
   "metadata": {},
   "outputs": [
    {
     "name": "stdout",
     "output_type": "stream",
     "text": [
      "B says hello!\n"
     ]
    }
   ],
   "source": [
    "B().hiya()"
   ]
  },
  {
   "cell_type": "code",
   "execution_count": null,
   "metadata": {},
   "outputs": [],
   "source": []
  }
 ],
 "metadata": {
  "kernelspec": {
   "display_name": "Python 3",
   "language": "python",
   "name": "python3"
  },
  "language_info": {
   "codemirror_mode": {
    "name": "ipython",
    "version": 3
   },
   "file_extension": ".py",
   "mimetype": "text/x-python",
   "name": "python",
   "nbconvert_exporter": "python",
   "pygments_lexer": "ipython3",
   "version": "3.8.2"
  }
 },
 "nbformat": 4,
 "nbformat_minor": 4
}
