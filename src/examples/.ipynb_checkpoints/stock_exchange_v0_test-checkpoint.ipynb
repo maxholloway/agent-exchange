{
 "cells": [
  {
   "cell_type": "code",
   "execution_count": 2,
   "metadata": {},
   "outputs": [],
   "source": [
    "import os\n",
    "# os.chdir(\"../..\")\n",
    "import numpy as np\n",
    "from stock_exchange_v0 import StockExchangeV0, StockAgentV0Random"
   ]
  },
  {
   "cell_type": "code",
   "execution_count": 3,
   "metadata": {},
   "outputs": [],
   "source": [
    "# Make random stock trading agents\n",
    "agents = np.array([StockAgentV0Random() for _ in range(2)])"
   ]
  },
  {
   "cell_type": "code",
   "execution_count": 6,
   "metadata": {},
   "outputs": [],
   "source": [
    "# Make the exchange object\n",
    "exchange = StockExchangeV0(agents)"
   ]
  },
  {
   "cell_type": "code",
   "execution_count": 7,
   "metadata": {},
   "outputs": [
    {
     "name": "stdout",
     "output_type": "stream",
     "text": [
      "Buying -1696 shares\n",
      "Buying 287 shares\n",
      "step: 0\tnet shares purchased: -1409\tcurrent price: 100.0\tepsilon: 0.01\tdelta price: -14.09\tnew price: 85.91\n",
      "\n",
      "Bought -1696 shares last time, and the price we got was $85.91\n",
      "Bought 287 shares last time, and the price we got was $85.91\n"
     ]
    }
   ],
   "source": [
    "# Simulate a step\n",
    "exchange.simulate_step()"
   ]
  },
  {
   "cell_type": "code",
   "execution_count": null,
   "metadata": {},
   "outputs": [],
   "source": [
    "exchange.agents"
   ]
  }
 ],
 "metadata": {
  "kernelspec": {
   "display_name": "agent-exchange",
   "language": "python",
   "name": "agent-exchange"
  },
  "language_info": {
   "codemirror_mode": {
    "name": "ipython",
    "version": 3
   },
   "file_extension": ".py",
   "mimetype": "text/x-python",
   "name": "python",
   "nbconvert_exporter": "python",
   "pygments_lexer": "ipython3",
   "version": "3.8.2"
  }
 },
 "nbformat": 4,
 "nbformat_minor": 4
}
